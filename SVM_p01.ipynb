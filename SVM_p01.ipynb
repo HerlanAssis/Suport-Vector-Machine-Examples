{
  "nbformat": 4,
  "nbformat_minor": 0,
  "metadata": {
    "colab": {
      "name": "SVM_p01.ipynb",
      "provenance": [],
      "collapsed_sections": [],
      "authorship_tag": "ABX9TyPL65jjbeVF6z0SagryY4em",
      "include_colab_link": true
    },
    "kernelspec": {
      "name": "python3",
      "display_name": "Python 3"
    }
  },
  "cells": [
    {
      "cell_type": "markdown",
      "metadata": {
        "id": "view-in-github",
        "colab_type": "text"
      },
      "source": [
        "<a href=\"https://colab.research.google.com/github/HerlanAssis/Suport-Vector-Machine-Examples/blob/main/SVM_p01.ipynb\" target=\"_parent\"><img src=\"https://colab.research.google.com/assets/colab-badge.svg\" alt=\"Open In Colab\"/></a>"
      ]
    },
    {
      "cell_type": "markdown",
      "metadata": {
        "id": "NxiWq_DUFuFl"
      },
      "source": [
        "# Exemplo 01\n",
        "\n",
        "Nesse exemplo utilizaremos um dataset simples parar testes."
      ]
    },
    {
      "cell_type": "code",
      "metadata": {
        "id": "gIX3K519CAnH"
      },
      "source": [
        "import numpy as np\n",
        "import pandas as pd\n",
        "import matplotlib.pyplot as plt\n",
        "from sklearn import svm, datasets, model_selection, metrics\n",
        "import seaborn as sns"
      ],
      "execution_count": 1,
      "outputs": []
    },
    {
      "cell_type": "markdown",
      "metadata": {
        "id": "o0qRTW0OF5Yl"
      },
      "source": [
        "o dataset foi gerado utilizando a função ```make_blobs```"
      ]
    },
    {
      "cell_type": "code",
      "metadata": {
        "id": "NW5HUvV0FQBt"
      },
      "source": [
        "x, y = datasets.make_blobs(n_samples=40, centers=2, random_state=6)"
      ],
      "execution_count": 2,
      "outputs": []
    },
    {
      "cell_type": "markdown",
      "metadata": {
        "id": "6TWRtlvqMjYk"
      },
      "source": [
        "teremos a seguinte configuração:"
      ]
    },
    {
      "cell_type": "code",
      "metadata": {
        "id": "xzyEd-szGyT4",
        "outputId": "735f26d7-49b1-45f1-e75d-40bb8ac151c4",
        "colab": {
          "base_uri": "https://localhost:8080/",
          "height": 592
        }
      },
      "source": [
        "plt.figure(figsize=(10, 10))\n",
        "\n",
        "for d, sample in enumerate(x):    \n",
        "    if sample[1] < -6:\n",
        "        plt.scatter(sample[0], sample[1], s=120, marker='_', linewidths=2)    \n",
        "    else:\n",
        "        plt.scatter(sample[0], sample[1], s=120, marker='+', linewidths=2)"
      ],
      "execution_count": 3,
      "outputs": [
        {
          "output_type": "display_data",
          "data": {
            "image/png": "[encoded data removed]",
            "text/plain": [
              "<Figure size 720x720 with 1 Axes>"
            ]
          },
          "metadata": {
            "tags": [],
            "needs_background": "light"
          }
        }
      ]
    },
    {
      "cell_type": "markdown",
      "metadata": {
        "id": "1e8FfrpWGI-H"
      },
      "source": [
        "em seguida iremos separar o conjunto de treino e teste"
      ]
    },
    {
      "cell_type": "code",
      "metadata": {
        "id": "8uKV2VY4FU21"
      },
      "source": [
        "x_train, x_test, y_train, y_test = model_selection.train_test_split(x, y, test_size=0.4, stratify=y, random_state=3)"
      ],
      "execution_count": 4,
      "outputs": []
    },
    {
      "cell_type": "markdown",
      "metadata": {
        "id": "cUD8GM-OGQGl"
      },
      "source": [
        "nesse ponto criamos o modelo e o treinamos com o nosso dataset"
      ]
    },
    {
      "cell_type": "code",
      "metadata": {
        "id": "VmSSpPe4FauN"
      },
      "source": [
        "modelo = svm.SVC(kernel='linear', C=1000)"
      ],
      "execution_count": 5,
      "outputs": []
    },
    {
      "cell_type": "code",
      "metadata": {
        "id": "FcaE44FkFh7N",
        "outputId": "92a04293-ff9b-4019-d9bf-2604823531be",
        "colab": {
          "base_uri": "https://localhost:8080/",
          "height": 85
        }
      },
      "source": [
        "modelo.fit(x_train, y_train)"
      ],
      "execution_count": 6,
      "outputs": [
        {
          "output_type": "execute_result",
          "data": {
            "text/plain": [
              "SVC(C=1000, break_ties=False, cache_size=200, class_weight=None, coef0=0.0,\n",
              "    decision_function_shape='ovr', degree=3, gamma='scale', kernel='linear',\n",
              "    max_iter=-1, probability=False, random_state=None, shrinking=True,\n",
              "    tol=0.001, verbose=False)"
            ]
          },
          "metadata": {
            "tags": []
          },
          "execution_count": 6
        }
      ]
    },
    {
      "cell_type": "markdown",
      "metadata": {
        "id": "RMKAK9LQGcLk"
      },
      "source": [
        "em seguida verificaremos a precissão do nosso modelo"
      ]
    },
    {
      "cell_type": "code",
      "metadata": {
        "id": "11Lx73qQFjK1",
        "outputId": "ce4bd1d8-2bb9-402c-c096-9e7f536e37dc",
        "colab": {
          "base_uri": "https://localhost:8080/",
          "height": 34
        }
      },
      "source": [
        "y_pred = modelo.predict(x_test)\n",
        "metrics.accuracy_score(y_test, y_pred)"
      ],
      "execution_count": 7,
      "outputs": [
        {
          "output_type": "execute_result",
          "data": {
            "text/plain": [
              "1.0"
            ]
          },
          "metadata": {
            "tags": []
          },
          "execution_count": 7
        }
      ]
    },
    {
      "cell_type": "markdown",
      "metadata": {
        "id": "v_jYBG1uMXG3"
      },
      "source": [
        "Este exemplo foi feito com auxílio do vídeo [Máquina de Vetores de Suporte - SVM](https://www.youtube.com/watch?v=4Zh7UeHqHvc)"
      ]
    }
  ]
}