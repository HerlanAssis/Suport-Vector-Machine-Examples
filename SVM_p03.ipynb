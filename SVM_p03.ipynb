{
  "nbformat": 4,
  "nbformat_minor": 0,
  "metadata": {
    "colab": {
      "name": "SVM_p03.ipynb",
      "provenance": [],
      "collapsed_sections": [],
      "mount_file_id": "1-b7nhuse0ebVFlvByHMOQCPemnbzIdIl",
      "authorship_tag": "ABX9TyNeE5pVqLeAZ9bFHdj+sM+E",
      "include_colab_link": true
    },
    "kernelspec": {
      "name": "python3",
      "display_name": "Python 3"
    }
  },
  "cells": [
    {
      "cell_type": "markdown",
      "metadata": {
        "id": "view-in-github",
        "colab_type": "text"
      },
      "source": [
        "<a href=\"https://colab.research.google.com/github/HerlanAssis/Suport-Vector-Machine-Examples/blob/main/SVM_p03.ipynb\" target=\"_parent\"><img src=\"https://colab.research.google.com/assets/colab-badge.svg\" alt=\"Open In Colab\"/></a>"
      ]
    },
    {
      "cell_type": "markdown",
      "metadata": {
        "id": "bE4GNx08Q3LT"
      },
      "source": [
        "# Exemplo 03\n",
        "\n",
        "Nesse exemplo utilizaremos um dataset para classificação de tópicos."
      ]
    },
    {
      "cell_type": "code",
      "metadata": {
        "id": "wV1wYJPMM4Ce"
      },
      "source": [
        "import pandas as pd\n",
        "import re\n",
        "import numpy as np\n",
        "from sklearn.pipeline import Pipeline\n",
        "from sklearn.feature_extraction.text import CountVectorizer # converte o texto em matriz e contabiliza a frequencia com que aparecem\n",
        "from sklearn.feature_extraction.text import TfidfTransformer # relaciona a frequencia com que um texto \n",
        "# aparece em um documento e relaciona com a frequencia em que ele aparece em todo o documento\n",
        "from sklearn.model_selection import train_test_split\n",
        "from sklearn.metrics import confusion_matrix, accuracy_score\n",
        "\n",
        "from sklearn.svm import SVC\n",
        "\n",
        "import seaborn as sns"
      ],
      "execution_count": 1,
      "outputs": []
    },
    {
      "cell_type": "code",
      "metadata": {
        "id": "57XL28HnNGIH"
      },
      "source": [
        "# pre processamento dos dados (realiza a limpeza do texto)\n",
        "def clean_str(string):\n",
        "    string = re.sub(r\"\\n\", \"\", string)\n",
        "    string = re.sub(r\"\\r\", \"\", string)\n",
        "    string = re.sub(r\"[0-9]\", \"digit\", string)\n",
        "    string = re.sub(r\"\\'\", \"\", string)\n",
        "    string = re.sub(r\"\\\"\", \"\", string)\n",
        "    \n",
        "    return string.strip().lower()"
      ],
      "execution_count": 2,
      "outputs": []
    },
    {
      "cell_type": "code",
      "metadata": {
        "id": "0J2H5WfBNHfG"
      },
      "source": [
        "df = pd.read_csv('/content/drive/My Drive/SVM/topics.csv')"
      ],
      "execution_count": 3,
      "outputs": []
    },
    {
      "cell_type": "markdown",
      "metadata": {
        "id": "199wGo20CwCM"
      },
      "source": [
        "Prévia do dataframe:"
      ]
    },
    {
      "cell_type": "code",
      "metadata": {
        "id": "JjRhCXrVNpBa",
        "outputId": "2c32a18e-68b8-41f0-931f-78dee12f659e",
        "colab": {
          "base_uri": "https://localhost:8080/",
          "height": 204
        }
      },
      "source": [
        "df.head(5)"
      ],
      "execution_count": 4,
      "outputs": [
        {
          "output_type": "execute_result",
          "data": {
            "text/html": [
              "<div>\n",
              "<style scoped>\n",
              "    .dataframe tbody tr th:only-of-type {\n",
              "        vertical-align: middle;\n",
              "    }\n",
              "\n",
              "    .dataframe tbody tr th {\n",
              "        vertical-align: top;\n",
              "    }\n",
              "\n",
              "    .dataframe thead th {\n",
              "        text-align: right;\n",
              "    }\n",
              "</style>\n",
              "<table border=\"1\" class=\"dataframe\">\n",
              "  <thead>\n",
              "    <tr style=\"text-align: right;\">\n",
              "      <th></th>\n",
              "      <th>Unnamed: 0</th>\n",
              "      <th>question_text</th>\n",
              "      <th>question_topic</th>\n",
              "    </tr>\n",
              "  </thead>\n",
              "  <tbody>\n",
              "    <tr>\n",
              "      <th>0</th>\n",
              "      <td>0</td>\n",
              "      <td>Hi! If I sign up for your email list, can I se...</td>\n",
              "      <td>Sales/Promotions</td>\n",
              "    </tr>\n",
              "    <tr>\n",
              "      <th>1</th>\n",
              "      <td>1</td>\n",
              "      <td>I'm going to be out of the country for about a...</td>\n",
              "      <td>Shipping</td>\n",
              "    </tr>\n",
              "    <tr>\n",
              "      <th>2</th>\n",
              "      <td>2</td>\n",
              "      <td>I was wondering if you'd be able to overnight ...</td>\n",
              "      <td>Shipping</td>\n",
              "    </tr>\n",
              "    <tr>\n",
              "      <th>3</th>\n",
              "      <td>3</td>\n",
              "      <td>The Swingline electronic stapler (472555) look...</td>\n",
              "      <td>Shipping</td>\n",
              "    </tr>\n",
              "    <tr>\n",
              "      <th>4</th>\n",
              "      <td>4</td>\n",
              "      <td>I think this cosmetic bag would work great for...</td>\n",
              "      <td>Shipping</td>\n",
              "    </tr>\n",
              "  </tbody>\n",
              "</table>\n",
              "</div>"
            ],
            "text/plain": [
              "   Unnamed: 0  ...    question_topic\n",
              "0           0  ...  Sales/Promotions\n",
              "1           1  ...          Shipping\n",
              "2           2  ...          Shipping\n",
              "3           3  ...          Shipping\n",
              "4           4  ...          Shipping\n",
              "\n",
              "[5 rows x 3 columns]"
            ]
          },
          "metadata": {
            "tags": []
          },
          "execution_count": 4
        }
      ]
    },
    {
      "cell_type": "code",
      "metadata": {
        "id": "FNHYbHPANvSV",
        "outputId": "4f161d87-afad-4c6c-8bb4-3590e1ee55db",
        "colab": {
          "base_uri": "https://localhost:8080/",
          "height": 296
        }
      },
      "source": [
        "sns.countplot(y=\"question_topic\", data=df)"
      ],
      "execution_count": 5,
      "outputs": [
        {
          "output_type": "execute_result",
          "data": {
            "text/plain": [
              "<matplotlib.axes._subplots.AxesSubplot at 0x7f9e196580b8>"
            ]
          },
          "metadata": {
            "tags": []
          },
          "execution_count": 5
        },
        {
          "output_type": "display_data",
          "data": {
            "image/png": "[encoded data removed]",
            "text/plain": [
              "<Figure size 432x288 with 1 Axes>"
            ]
          },
          "metadata": {
            "tags": [],
            "needs_background": "light"
          }
        }
      ]
    },
    {
      "cell_type": "code",
      "metadata": {
        "id": "bOebxQ56Nw2i"
      },
      "source": [
        "X = []\n",
        "for i in range(df.shape[0]):\n",
        "    X.append(clean_str(df.iloc[i][1]))\n",
        "y = np.array(df['question_topic'])"
      ],
      "execution_count": 6,
      "outputs": []
    },
    {
      "cell_type": "code",
      "metadata": {
        "id": "G-t6SRn3Nz7h"
      },
      "source": [
        "X_train, X_test, y_train, y_test = train_test_split(X, y, test_size=0.3)"
      ],
      "execution_count": 7,
      "outputs": []
    },
    {
      "cell_type": "code",
      "metadata": {
        "id": "xOKfUiR6N2KL"
      },
      "source": [
        "model = Pipeline([\n",
        "    ('vectorizer', CountVectorizer()),\n",
        "    ('tfidf', TfidfTransformer()),\n",
        "    # ('clf', SVC(kernel=\"rbf\", gamma=0.09, C=4.0))\n",
        "    ('clf', SVC(kernel=\"linear\", C=2.0))\n",
        "])"
      ],
      "execution_count": 20,
      "outputs": []
    },
    {
      "cell_type": "code",
      "metadata": {
        "id": "G2_KBA88N4JQ",
        "outputId": "654e9804-ad43-4e36-f1cf-2dd356fbefbd",
        "colab": {
          "base_uri": "https://localhost:8080/",
          "height": 374
        }
      },
      "source": [
        "model.fit(X_train, y_train)"
      ],
      "execution_count": 21,
      "outputs": [
        {
          "output_type": "execute_result",
          "data": {
            "text/plain": [
              "Pipeline(memory=None,\n",
              "         steps=[('vectorizer',\n",
              "                 CountVectorizer(analyzer='word', binary=False,\n",
              "                                 decode_error='strict',\n",
              "                                 dtype=<class 'numpy.int64'>, encoding='utf-8',\n",
              "                                 input='content', lowercase=True, max_df=1.0,\n",
              "                                 max_features=None, min_df=1,\n",
              "                                 ngram_range=(1, 1), preprocessor=None,\n",
              "                                 stop_words=None, strip_accents=None,\n",
              "                                 token_pattern='(?u)\\\\b\\\\w\\\\w+\\\\b',\n",
              "                                 tokenizer=None, vocabulary=None)),\n",
              "                ('tfidf',\n",
              "                 TfidfTransformer(norm='l2', smooth_idf=True,\n",
              "                                  sublinear_tf=False, use_idf=True)),\n",
              "                ('clf',\n",
              "                 SVC(C=4.0, break_ties=False, cache_size=200, class_weight=None,\n",
              "                     coef0=0.0, decision_function_shape='ovr', degree=3,\n",
              "                     gamma=0.09, kernel='rbf', max_iter=-1, probability=False,\n",
              "                     random_state=None, shrinking=True, tol=0.001,\n",
              "                     verbose=False))],\n",
              "         verbose=False)"
            ]
          },
          "metadata": {
            "tags": []
          },
          "execution_count": 21
        }
      ]
    },
    {
      "cell_type": "code",
      "metadata": {
        "id": "4v3ftdhTN5cx",
        "outputId": "7934921d-f2d5-4e8a-c65c-592579f0a15a",
        "colab": {
          "base_uri": "https://localhost:8080/",
          "height": 509
        }
      },
      "source": [
        "pred = model.predict(X_test)\n",
        "\n",
        "# a matriz de confusão relaciona a predição do modelo com o que ele acertou/erro\n",
        "c_matrix = confusion_matrix(pred, y_test)\n",
        "\n",
        "sns.set(style=\"ticks\", color_codes=True, rc={\"figure.figsize\": (12, 8)}, font_scale=1.2)\n",
        "sns.heatmap(c_matrix, annot=True, annot_kws={\"size\": 12})"
      ],
      "execution_count": 22,
      "outputs": [
        {
          "output_type": "execute_result",
          "data": {
            "text/plain": [
              "<matplotlib.axes._subplots.AxesSubplot at 0x7f9e162957b8>"
            ]
          },
          "metadata": {
            "tags": []
          },
          "execution_count": 22
        },
        {
          "output_type": "display_data",
          "data": {
            "image/png": "[encoded data removed]",
            "text/plain": [
              "<Figure size 864x576 with 2 Axes>"
            ]
          },
          "metadata": {
            "tags": []
          }
        }
      ]
    },
    {
      "cell_type": "code",
      "metadata": {
        "id": "EwjrGI1ON7lA",
        "outputId": "52bd16b7-971d-4295-ebb4-071403ec4135",
        "colab": {
          "base_uri": "https://localhost:8080/",
          "height": 34
        }
      },
      "source": [
        "accuracy_score(y_test, pred)"
      ],
      "execution_count": 23,
      "outputs": [
        {
          "output_type": "execute_result",
          "data": {
            "text/plain": [
              "0.986"
            ]
          },
          "metadata": {
            "tags": []
          },
          "execution_count": 23
        }
      ]
    },
    {
      "cell_type": "markdown",
      "metadata": {
        "id": "2smIB5mUQoeL"
      },
      "source": [
        "Este exemplo foi feito com auxílio do vídeo [SVM - Support Vector Machines: Fundamentos e prática](https://www.youtube.com/watch?v=b8nP9g0p8X4)"
      ]
    }
  ]
}